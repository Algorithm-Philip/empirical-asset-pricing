{
 "cells": [
  {
   "cell_type": "markdown",
   "metadata": {},
   "source": [
    "* The Python distribution I use is [Anaconda](https://www.anaconda.com/what-is-anaconda/). \n",
    "\n",
    "* The version is Python 3.6. \n",
    "\n",
    "* I use Jupyter notebooks to interact with Python. To start it, type *jupyter notebook* in a terminal.\n",
    "* This file is based on Professor Guofu Zhou's **L1_IBM.m**.\n",
    "* Comments are welcomed. My email is *leifu.zhang@wustl.edu*."
   ]
  },
  {
   "cell_type": "code",
   "execution_count": 1,
   "metadata": {
    "collapsed": true
   },
   "outputs": [],
   "source": [
    "import pandas as pd # To load data, we use the package pandas\n",
    "import numpy as np # To do mathematical operations, we use the package numpy\n",
    "import matplotlib.pyplot as plt # To plot the returns data, we use the package matplotlib\n",
    "\n",
    "# Load the monthly data of IBM, from 01/1934 to 12/2011\n",
    "\n",
    "ibmnames = ['var1', 'time', 'var3', 'return'] # Give variables' names\n",
    "df = pd.read_fwf('IBM.dat', colspecs='infer', widths=None, header=None, names=ibmnames) "
   ]
  },
  {
   "cell_type": "code",
   "execution_count": 2,
   "metadata": {
    "collapsed": false
   },
   "outputs": [
    {
     "name": "stdout",
     "output_type": "stream",
     "text": [
      "This is the IBM mean: 0.0128621420940171\n",
      "\n"
     ]
    }
   ],
   "source": [
    "# To calculate the mean of the stock returns, we can use the function np.mean\n",
    "\n",
    "mu = np.mean(df['return'])\n",
    "\n",
    "print('This is the IBM mean: {}\\n' .format(mu))"
   ]
  },
  {
   "cell_type": "code",
   "execution_count": 3,
   "metadata": {
    "collapsed": false
   },
   "outputs": [
    {
     "name": "stdout",
     "output_type": "stream",
     "text": [
      "This is the mean computed by a loop: 0.0128621420940171\n",
      "\n"
     ]
    }
   ],
   "source": [
    "# We can also use a loop to compute the mean\n",
    "\n",
    "T = len(df) # Get the number of obvs \n",
    "\n",
    "mu1 = 0 # The initial value of the mean\n",
    "\n",
    "for i in range(T):\n",
    "    mu1 = df['return'][i] + mu1\n",
    "mu1 = mu1 / T\n",
    "\n",
    "print('This is the mean computed by a loop: {}\\n' .format(mu1))"
   ]
  },
  {
   "cell_type": "code",
   "execution_count": 4,
   "metadata": {
    "collapsed": false
   },
   "outputs": [
    {
     "name": "stdout",
     "output_type": "stream",
     "text": [
      "(Monthly) Mean, Std of the Returns \n",
      "\n",
      "        0.0129   0.0652\n",
      " \n"
     ]
    }
   ],
   "source": [
    "sig = np.var(df['return']) # The square of the standard deviation\n",
    "\n",
    "std = np.sqrt(sig) # The standard deviation\n",
    "\n",
    "print('(Monthly) Mean, Std of the Returns \\n')\n",
    "print('        {0:.4f}   {1:.4f}\\n '.format(mu, std))"
   ]
  },
  {
   "cell_type": "code",
   "execution_count": 5,
   "metadata": {
    "collapsed": false
   },
   "outputs": [
    {
     "name": "stdout",
     "output_type": "stream",
     "text": [
      "Q1: How many returns greater than 2*std+mu?\n",
      "\n",
      "          26\n",
      "\n"
     ]
    }
   ],
   "source": [
    "# Q1: How many returns greater than 2*std+mu?\n",
    "\n",
    "LB = mu + 2 * std\n",
    "\n",
    "A1 = 0\n",
    "\n",
    "for i in range(T):\n",
    "    if df['return'][i] > LB:\n",
    "        A1 = A1 + 1\n",
    "\n",
    "print('Q1: How many returns greater than 2*std+mu?\\n')\n",
    "print('          {}\\n'.format(A1))"
   ]
  },
  {
   "cell_type": "code",
   "execution_count": 6,
   "metadata": {
    "collapsed": false
   },
   "outputs": [
    {
     "name": "stdout",
     "output_type": "stream",
     "text": [
      "Q2: How many returns greater than 10%?\n",
      "\n",
      "          73\n",
      "\n"
     ]
    }
   ],
   "source": [
    "# Q2: How many returns greater than 10%?\n",
    "\n",
    "LB2 = .10  \n",
    "\n",
    "A2 = 0\n",
    "\n",
    "for i in range(T):\n",
    "    if df['return'][i] > LB2:\n",
    "         A2 = A2 + 1\n",
    "            \n",
    "print('Q2: How many returns greater than 10%?\\n')\n",
    "print('          {}\\n'.format(A2))        "
   ]
  },
  {
   "cell_type": "code",
   "execution_count": 7,
   "metadata": {
    "collapsed": false
   },
   "outputs": [
    {
     "name": "stdout",
     "output_type": "stream",
     "text": [
      "Q3: What is the accumulative returns / value of investing $1?\n",
      "\n",
      "          22557.17\n",
      "\n"
     ]
    }
   ],
   "source": [
    "# Q3: What is the accumulative returns / value of investing $1?\n",
    "\n",
    "Value = 1\n",
    "\n",
    "for i in range(T):\n",
    "    Value = Value * (1 + df['return'][i])\n",
    "\n",
    "print('Q3: What is the accumulative returns / value of investing $1?\\n')\n",
    "print('          {0:.2f}\\n'.format(Value))   "
   ]
  },
  {
   "cell_type": "code",
   "execution_count": 8,
   "metadata": {
    "collapsed": false
   },
   "outputs": [
    {
     "name": "stdout",
     "output_type": "stream",
     "text": [
      "Q4: What is the accumulative returns/Value of investing $1 if we miss 5% of the best return month?\n",
      "\n",
      "          22.47\n",
      "\n"
     ]
    }
   ],
   "source": [
    "# Q4: What is the accumulative returns/Value of investing $1 if we miss 5% of the best return month?\n",
    "# Assuming earning the average riskfree rate of 4%/12 in those missing month                        \n",
    "                        \n",
    "ReturnS = sorted(df['return']) # Sort the returns in increasing order\n",
    "\n",
    "T1 = .05 * T\n",
    "T1 = round(T1) #round the number to an integer\n",
    "\n",
    "Value1 = 1\n",
    "\n",
    "for i in range(T-T1):\n",
    "    Value1 = Value1 * (1 + ReturnS[i])\n",
    "\n",
    "for i in range(T - T1 + 1, T):\n",
    "    Value1 = Value1 * (1 + 0.04/12)\n",
    "\n",
    "print('Q4: What is the accumulative returns/Value of investing $1 if we miss 5% of the best return month?\\n')\n",
    "print('          {0:.2f}\\n'.format(Value1))"
   ]
  },
  {
   "cell_type": "code",
   "execution_count": 9,
   "metadata": {
    "collapsed": false
   },
   "outputs": [
    {
     "name": "stdout",
     "output_type": "stream",
     "text": [
      "Q5: What is the accumulative returns / value of investing $1 if we avoid 5% of the worse return month?\n",
      "\n",
      "          17270749.40\n",
      "\n"
     ]
    }
   ],
   "source": [
    "# Q5: What is the accumulative returns / value of investing $1 if we avoid 5% of the worse return month?\n",
    "# Assuming earning the average riskfree rate of 4%/12 in those missing month                        \n",
    "                        \n",
    "Value2 = 1\n",
    "\n",
    "for i in range(T1):\n",
    "    Value2 = Value2 * (1 + 0.04/12)\n",
    "\n",
    "for i in range(T1+1, T):\n",
    "    Value2 = Value2 * (1 + ReturnS[i])\n",
    "\n",
    "print('Q5: What is the accumulative returns / value of investing $1 if we avoid 5% of the worse return month?\\n')\n",
    "print('          {0:.2f}\\n'.format(Value2))"
   ]
  },
  {
   "cell_type": "code",
   "execution_count": 10,
   "metadata": {
    "collapsed": false
   },
   "outputs": [
    {
     "name": "stdout",
     "output_type": "stream",
     "text": [
      "Q6: What is the percentage of up days?\n",
      "\n",
      "          56.62%\n",
      "\n"
     ]
    }
   ],
   "source": [
    "# Q6: What is the percentage of up days?\n",
    "\n",
    "Up = 0\n",
    "for i in range(T):\n",
    "    if df['return'][i] > 0: \n",
    "        Up = Up + 1\n",
    "\n",
    "Udays = Up/T * 100\n",
    "\n",
    "print('Q6: What is the percentage of up days?\\n')\n",
    "print('          {0:.2f}%\\n'.format(Udays))"
   ]
  },
  {
   "cell_type": "code",
   "execution_count": null,
   "metadata": {
    "collapsed": false
   },
   "outputs": [],
   "source": [
    "# Plot the returns of IBM\n",
    "\n",
    "df.time = pd.to_datetime(df['time'], format='%Y%m%d')\n",
    "df.set_index(['time'],inplace=True)\n",
    "\n",
    "plt.plot(df.index, df['return'])\n",
    "plt.ylabel('IBM\\'s Stock Returns')\n",
    "plt.xlabel('Date')\n",
    "plt.show()"
   ]
  },
  {
   "cell_type": "code",
   "execution_count": null,
   "metadata": {
    "collapsed": true
   },
   "outputs": [],
   "source": []
  }
 ],
 "metadata": {
  "kernelspec": {
   "display_name": "Python [Root]",
   "language": "python",
   "name": "Python [Root]"
  },
  "language_info": {
   "codemirror_mode": {
    "name": "ipython",
    "version": 3
   },
   "file_extension": ".py",
   "mimetype": "text/x-python",
   "name": "python",
   "nbconvert_exporter": "python",
   "pygments_lexer": "ipython3",
   "version": "3.5.2"
  }
 },
 "nbformat": 4,
 "nbformat_minor": 2
}
