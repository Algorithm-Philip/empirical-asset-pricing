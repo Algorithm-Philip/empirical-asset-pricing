{
 "cells": [
  {
   "cell_type": "code",
   "execution_count": 1,
   "metadata": {},
   "outputs": [
    {
     "data": {
      "image/png": "[encoded data removed]",
      "text/plain": [
       "<matplotlib.figure.Figure at 0x103e6a2e8>"
      ]
     },
     "metadata": {},
     "output_type": "display_data"
    }
   ],
   "source": [
    "# We give an example of how to estimate y = a + bx + e\n",
    "\n",
    "import numpy as np\n",
    "import matplotlib.pyplot as plt\n",
    "import statsmodels.api as sm # We use this package to do estimation\n",
    "%matplotlib inline\n",
    "\n",
    "e = np.random.randn(100,1) # Generate noises from N(0,1)\n",
    "x = np.arange(1,101) # Generate x\n",
    "x.shape = (100,1)\n",
    "y = x + e # Generate y\n",
    "\n",
    "# Note that the true value of (a,b) = (0,1)\n",
    "\n",
    "# Plot the data\n",
    "plt.scatter(x, y)\n",
    "plt.ylabel('y')\n",
    "plt.xlabel('x')\n",
    "plt.show()"
   ]
  },
  {
   "cell_type": "code",
   "execution_count": 2,
   "metadata": {},
   "outputs": [
    {
     "name": "stdout",
     "output_type": "stream",
     "text": [
      "                            OLS Regression Results                            \n",
      "==============================================================================\n",
      "Dep. Variable:                      y   R-squared:                       0.999\n",
      "Model:                            OLS   Adj. R-squared:                  0.999\n",
      "Method:                 Least Squares   F-statistic:                 6.819e+04\n",
      "Date:                Fri, 10 Nov 2017   Prob (F-statistic):          3.91e-141\n",
      "Time:                        13:26:26   Log-Likelihood:                -150.56\n",
      "No. Observations:                 100   AIC:                             305.1\n",
      "Df Residuals:                      98   BIC:                             310.3\n",
      "Df Model:                           1                                         \n",
      "Covariance Type:            nonrobust                                         \n",
      "==============================================================================\n",
      "                 coef    std err          t      P>|t|      [95.0% Conf. Int.]\n",
      "------------------------------------------------------------------------------\n",
      "x1             0.9965      0.004    261.133      0.000         0.989     1.004\n",
      "const          0.1877      0.222      0.846      0.400        -0.253     0.628\n",
      "==============================================================================\n",
      "Omnibus:                        0.862   Durbin-Watson:                   2.219\n",
      "Prob(Omnibus):                  0.650   Jarque-Bera (JB):                0.403\n",
      "Skew:                           0.043   Prob(JB):                        0.818\n",
      "Kurtosis:                       3.299   Cond. No.                         117.\n",
      "==============================================================================\n",
      "\n",
      "Warnings:\n",
      "[1] Standard Errors assume that the covariance matrix of the errors is correctly specified.\n"
     ]
    }
   ],
   "source": [
    "const = np.ones((100,1)) # The constant part\n",
    "xx = np.hstack((x,const)) # Add the constant part to x\n",
    "\n",
    "\n",
    "# Do the regression\n",
    "reg = sm.OLS(endog=y, exog=xx)\n",
    "result = reg.fit()\n",
    "print(result.summary())"
   ]
  }
 ],
 "metadata": {
  "anaconda-cloud": {},
  "kernelspec": {
   "display_name": "Python 3",
   "language": "python",
   "name": "python3"
  },
  "language_info": {
   "codemirror_mode": {
    "name": "ipython",
    "version": 3
   },
   "file_extension": ".py",
   "mimetype": "text/x-python",
   "name": "python",
   "nbconvert_exporter": "python",
   "pygments_lexer": "ipython3",
   "version": "3.6.5"
  }
 },
 "nbformat": 4,
 "nbformat_minor": 1
}
