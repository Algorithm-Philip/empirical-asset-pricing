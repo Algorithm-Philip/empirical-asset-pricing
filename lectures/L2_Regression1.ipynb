{
 "cells": [
  {
   "cell_type": "code",
   "execution_count": 1,
   "metadata": {},
   "outputs": [
    {
     "data": {
      "image/png": "[encoded data removed]",
      "text/plain": [
       "<Figure size 432x288 with 1 Axes>"
      ]
     },
     "metadata": {},
     "output_type": "display_data"
    }
   ],
   "source": [
    "# We give an example of how to estimate y = a + bx + e\n",
    "\n",
    "import numpy as np\n",
    "import matplotlib.pyplot as plt\n",
    "import statsmodels.api as sm # We use this package to do estimation\n",
    "%matplotlib inline\n",
    "\n",
    "e = np.random.randn(100,1) # Generate noises from N(0,1)\n",
    "x = np.arange(1,101) # Generate x\n",
    "x.shape = (100,1)\n",
    "y = x + e # Generate y\n",
    "\n",
    "# Note that the true value of (a,b) = (0,1)\n",
    "\n",
    "# Plot the data\n",
    "plt.scatter(x, y)\n",
    "plt.ylabel('$y$')\n",
    "plt.xlabel('$x$')\n",
    "plt.show()"
   ]
  },
  {
   "cell_type": "code",
   "execution_count": 2,
   "metadata": {},
   "outputs": [
    {
     "name": "stdout",
     "output_type": "stream",
     "text": [
      "                            OLS Regression Results                            \n",
      "==============================================================================\n",
      "Dep. Variable:                      y   R-squared:                       0.999\n",
      "Model:                            OLS   Adj. R-squared:                  0.999\n",
      "Method:                 Least Squares   F-statistic:                 7.474e+04\n",
      "Date:                Tue, 28 Aug 2018   Prob (F-statistic):          4.41e-143\n",
      "Time:                        16:26:38   Log-Likelihood:                -140.08\n",
      "No. Observations:                 100   AIC:                             284.2\n",
      "Df Residuals:                      98   BIC:                             289.4\n",
      "Df Model:                           1                                         \n",
      "Covariance Type:                  HC3                                         \n",
      "==============================================================================\n",
      "                 coef    std err          z      P>|z|      [0.025      0.975]\n",
      "------------------------------------------------------------------------------\n",
      "x1             1.0005      0.004    273.380      0.000       0.993       1.008\n",
      "const          0.0460      0.211      0.218      0.827      -0.368       0.460\n",
      "==============================================================================\n",
      "Omnibus:                        0.134   Durbin-Watson:                   2.099\n",
      "Prob(Omnibus):                  0.935   Jarque-Bera (JB):                0.315\n",
      "Skew:                          -0.010   Prob(JB):                        0.854\n",
      "Kurtosis:                       2.726   Cond. No.                         117.\n",
      "==============================================================================\n",
      "\n",
      "Warnings:\n",
      "[1] Standard Errors are heteroscedasticity robust (HC3)\n"
     ]
    }
   ],
   "source": [
    "const = np.ones((100,1)) # The constant part\n",
    "xx = np.hstack((x,const)) # Add the constant part to x\n",
    "\n",
    "\n",
    "# Do the regression\n",
    "reg = sm.OLS(endog=y, exog=xx)\n",
    "result = reg.fit(cov_type='HC3')\n",
    "print(result.summary())"
   ]
  }
 ],
 "metadata": {
  "anaconda-cloud": {},
  "kernelspec": {
   "display_name": "Python 3",
   "language": "python",
   "name": "python3"
  },
  "language_info": {
   "codemirror_mode": {
    "name": "ipython",
    "version": 3
   },
   "file_extension": ".py",
   "mimetype": "text/x-python",
   "name": "python",
   "nbconvert_exporter": "python",
   "pygments_lexer": "ipython3",
   "version": "3.6.5"
  }
 },
 "nbformat": 4,
 "nbformat_minor": 1
}
