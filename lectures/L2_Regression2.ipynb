{
 "cells": [
  {
   "cell_type": "code",
   "execution_count": 1,
   "metadata": {},
   "outputs": [
    {
     "name": "stdout",
     "output_type": "stream",
     "text": [
      "                            OLS Regression Results                            \n",
      "==============================================================================\n",
      "Dep. Variable:                      y   R-squared:                       1.000\n",
      "Model:                            OLS   Adj. R-squared:                  1.000\n",
      "Method:                 Least Squares   F-statistic:                 1.097e+08\n",
      "Date:                Fri, 10 Nov 2017   Prob (F-statistic):          6.54e-309\n",
      "Time:                        13:27:59   Log-Likelihood:                -143.78\n",
      "No. Observations:                 100   AIC:                             293.6\n",
      "Df Residuals:                      97   BIC:                             301.4\n",
      "Df Model:                           2                                         \n",
      "Covariance Type:            nonrobust                                         \n",
      "==============================================================================\n",
      "                 coef    std err          t      P>|t|      [95.0% Conf. Int.]\n",
      "------------------------------------------------------------------------------\n",
      "const          0.2749      0.320      0.858      0.393        -0.361     0.911\n",
      "x1             0.9931      0.015     68.178      0.000         0.964     1.022\n",
      "x2             0.5000      0.000   3596.892      0.000         0.500     0.500\n",
      "==============================================================================\n",
      "Omnibus:                        0.319   Durbin-Watson:                   2.328\n",
      "Prob(Omnibus):                  0.852   Jarque-Bera (JB):                0.297\n",
      "Skew:                          -0.127   Prob(JB):                        0.862\n",
      "Kurtosis:                       2.917   Cond. No.                     1.40e+04\n",
      "==============================================================================\n",
      "\n",
      "Warnings:\n",
      "[1] Standard Errors assume that the covariance matrix of the errors is correctly specified.\n",
      "[2] The condition number is large, 1.4e+04. This might indicate that there are\n",
      "strong multicollinearity or other numerical problems.\n"
     ]
    }
   ],
   "source": [
    "# We give an example of how to estimate y = a + b1x1 + b2x2 + e\n",
    "\n",
    "import numpy as np\n",
    "import matplotlib.pyplot as plt\n",
    "import statsmodels.api as sm # We use this package to do estimation\n",
    "\n",
    "e = np.random.randn(100,3) # Generate noises from N(0,1)\n",
    "x1 = np.arange(1,101) + e[:,0] # Generate x1\n",
    "x2 = np.square(np.arange(1,101)) + e[:,1] # Generate x2\n",
    "y = x1 + 0.5 * x2 + e[:,2] # Generate y\n",
    "\n",
    "# Note that the true value of (a,b1,b2) = (0,1,0.5)\n",
    "\n",
    "const = np.ones((100,1)) # The constant part\n",
    "x1.shape = (100,1)\n",
    "x2.shape = (100,1)\n",
    "xx = np.hstack((const,x1,x2)) # Add the constant part to x\n",
    "\n",
    "\n",
    "# Do the regression\n",
    "reg = sm.OLS(endog=y, exog=xx)\n",
    "result = reg.fit()\n",
    "print(result.summary())"
   ]
  }
 ],
 "metadata": {
  "anaconda-cloud": {},
  "kernelspec": {
   "display_name": "Python 3",
   "language": "python",
   "name": "python3"
  },
  "language_info": {
   "codemirror_mode": {
    "name": "ipython",
    "version": 3
   },
   "file_extension": ".py",
   "mimetype": "text/x-python",
   "name": "python",
   "nbconvert_exporter": "python",
   "pygments_lexer": "ipython3",
   "version": "3.6.5"
  }
 },
 "nbformat": 4,
 "nbformat_minor": 1
}
