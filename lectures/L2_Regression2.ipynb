{
 "cells": [
  {
   "cell_type": "code",
   "execution_count": 1,
   "metadata": {},
   "outputs": [
    {
     "name": "stdout",
     "output_type": "stream",
     "text": [
      "                            OLS Regression Results                            \n",
      "==============================================================================\n",
      "Dep. Variable:                      y   R-squared:                       1.000\n",
      "Model:                            OLS   Adj. R-squared:                  1.000\n",
      "Method:                 Least Squares   F-statistic:                 1.539e+08\n",
      "Date:                Tue, 28 Aug 2018   Prob (F-statistic):          4.71e-316\n",
      "Time:                        16:25:29   Log-Likelihood:                -127.73\n",
      "No. Observations:                 100   AIC:                             261.5\n",
      "Df Residuals:                      97   BIC:                             269.3\n",
      "Df Model:                           2                                         \n",
      "Covariance Type:                  HC3                                         \n",
      "==============================================================================\n",
      "                 coef    std err          z      P>|z|      [0.025      0.975]\n",
      "------------------------------------------------------------------------------\n",
      "const          0.6926      0.297      2.330      0.020       0.110       1.275\n",
      "x1             0.9630      0.013     71.901      0.000       0.937       0.989\n",
      "x2             0.5003      0.000   3942.126      0.000       0.500       0.501\n",
      "==============================================================================\n",
      "Omnibus:                        1.577   Durbin-Watson:                   1.901\n",
      "Prob(Omnibus):                  0.454   Jarque-Bera (JB):                1.421\n",
      "Skew:                          -0.157   Prob(JB):                        0.491\n",
      "Kurtosis:                       2.508   Cond. No.                     1.42e+04\n",
      "==============================================================================\n",
      "\n",
      "Warnings:\n",
      "[1] Standard Errors are heteroscedasticity robust (HC3)\n",
      "[2] The condition number is large, 1.42e+04. This might indicate that there are\n",
      "strong multicollinearity or other numerical problems.\n"
     ]
    }
   ],
   "source": [
    "# We give an example of how to estimate y = a + b1x1 + b2x2 + e\n",
    "\n",
    "import numpy as np\n",
    "import matplotlib.pyplot as plt\n",
    "import statsmodels.api as sm # We use this package to do estimation\n",
    "\n",
    "e = np.random.randn(100,3) # Generate noises from N(0,1)\n",
    "x1 = np.arange(1,101) + e[:,0] # Generate x1\n",
    "x2 = np.square(np.arange(1,101)) + e[:,1] # Generate x2\n",
    "y = x1 + 0.5 * x2 + e[:,2] # Generate y\n",
    "\n",
    "# Note that the true value of (a,b1,b2) = (0,1,0.5)\n",
    "\n",
    "const = np.ones((100,1)) # The constant part\n",
    "x1.shape = (100,1)\n",
    "x2.shape = (100,1)\n",
    "xx = np.hstack((const,x1,x2)) # Add the constant part to x\n",
    "\n",
    "\n",
    "# Do the regression\n",
    "reg = sm.OLS(endog=y, exog=xx)\n",
    "result = reg.fit(cov_type='HC3')\n",
    "print(result.summary())"
   ]
  }
 ],
 "metadata": {
  "anaconda-cloud": {},
  "kernelspec": {
   "display_name": "Python 3",
   "language": "python",
   "name": "python3"
  },
  "language_info": {
   "codemirror_mode": {
    "name": "ipython",
    "version": 3
   },
   "file_extension": ".py",
   "mimetype": "text/x-python",
   "name": "python",
   "nbconvert_exporter": "python",
   "pygments_lexer": "ipython3",
   "version": "3.6.5"
  }
 },
 "nbformat": 4,
 "nbformat_minor": 1
}
