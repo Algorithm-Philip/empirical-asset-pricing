{
 "cells": [
  {
   "cell_type": "code",
   "execution_count": 1,
   "metadata": {},
   "outputs": [
    {
     "data": {
      "image/png": "[encoded data removed]",
      "text/plain": [
       "<Figure size 432x288 with 1 Axes>"
      ]
     },
     "metadata": {},
     "output_type": "display_data"
    }
   ],
   "source": [
    "# We give an example of how to estimate the CAPM for IBM\n",
    "# IBM return - rf = α + β(Mkt - rf) + ϵ\n",
    "\n",
    "import pandas as pd # To load data, we use the package pandas\n",
    "import numpy as np # To do mathematical operations, we use the package numpy\n",
    "import matplotlib.pyplot as plt # To plot the returns data, we use the package matplotlib\n",
    "import statsmodels.api as sm # We use this package to do estimation\n",
    "%matplotlib inline\n",
    "\n",
    "\n",
    "# Load the monthly data of IBM, from 01/1934 to 12/2011\n",
    "\n",
    "ibmnames = ['var1', 'time', 'var3', 'return'] # Give variables' names\n",
    "df = pd.read_fwf('IBM.dat', colspecs='infer', widths=None, header=None, names=ibmnames) \n",
    "\n",
    "T = len(df) # The number of obs\n",
    "\n",
    "# Load the monthly data of Risk-free rates, from 01/1934 to 12/2011\n",
    "\n",
    "riskfreenames = ['var1', 'var2', 'var3', 'var4', 'rates'] # Give variables' names\n",
    "df1 = pd.read_fwf('Riskfree.dat', colspecs='infer', widths=None, header=None, names=riskfreenames) \n",
    "df1['rates'] = df1['rates']/100 # Divided by 100 b/c data are in percentage points\n",
    "\n",
    "\n",
    "# Load the monthly data of S&P 500, from 01/1934 to 12/2011\n",
    "\n",
    "spnames = ['var1','mkt'] # Give variables' names\n",
    "df2 = pd.read_fwf('SP500.dat', colspecs='infer', widths=None, header=None, names=spnames)\n",
    "\n",
    "# Get excess returns\n",
    "\n",
    "y = df['return'] - df1['rates']\n",
    "y = y.values\n",
    "\n",
    "x = df2['mkt'] - df1['rates']\n",
    "x = x.values\n",
    "x.shape = (T,1)\n",
    "\n",
    "# Plot the data\n",
    "\n",
    "plt.scatter(x, y)\n",
    "plt.ylabel('The IBM\\'s Excess Return')\n",
    "plt.xlabel('The Premium per Unit of Systematic Risk')\n",
    "plt.show()\n",
    "\n",
    "const = np.ones((T,1)) # The constant part\n",
    "xx = np.hstack((x,const)) # Add the constant part to x"
   ]
  },
  {
   "cell_type": "code",
   "execution_count": 2,
   "metadata": {},
   "outputs": [
    {
     "name": "stdout",
     "output_type": "stream",
     "text": [
      "                            OLS Regression Results                            \n",
      "==============================================================================\n",
      "Dep. Variable:                      y   R-squared:                       0.325\n",
      "Model:                            OLS   Adj. R-squared:                  0.324\n",
      "Method:                 Least Squares   F-statistic:                     315.7\n",
      "Date:                Tue, 28 Aug 2018   Prob (F-statistic):           4.58e-61\n",
      "Time:                        16:27:02   Log-Likelihood:                 1408.9\n",
      "No. Observations:                 936   AIC:                            -2814.\n",
      "Df Residuals:                     934   BIC:                            -2804.\n",
      "Df Model:                           1                                         \n",
      "Covariance Type:                  HC3                                         \n",
      "==============================================================================\n",
      "                 coef    std err          z      P>|z|      [0.025      0.975]\n",
      "------------------------------------------------------------------------------\n",
      "x1             0.8020      0.045     17.767      0.000       0.714       0.890\n",
      "const          0.0047      0.002      2.678      0.007       0.001       0.008\n",
      "==============================================================================\n",
      "Omnibus:                       87.581   Durbin-Watson:                   2.009\n",
      "Prob(Omnibus):                  0.000   Jarque-Bera (JB):              421.585\n",
      "Skew:                           0.269   Prob(JB):                     2.84e-92\n",
      "Kurtosis:                       6.244   Cond. No.                         21.5\n",
      "==============================================================================\n",
      "\n",
      "Warnings:\n",
      "[1] Standard Errors are heteroscedasticity robust (HC3)\n"
     ]
    }
   ],
   "source": [
    "# Run the regression\n",
    "reg = sm.OLS(endog=y, exog=xx)\n",
    "result = reg.fit(cov_type='HC3')\n",
    "print(result.summary())"
   ]
  }
 ],
 "metadata": {
  "kernelspec": {
   "display_name": "Python 3",
   "language": "python",
   "name": "python3"
  },
  "language_info": {
   "codemirror_mode": {
    "name": "ipython",
    "version": 3
   },
   "file_extension": ".py",
   "mimetype": "text/x-python",
   "name": "python",
   "nbconvert_exporter": "python",
   "pygments_lexer": "ipython3",
   "version": "3.6.5"
  }
 },
 "nbformat": 4,
 "nbformat_minor": 1
}
