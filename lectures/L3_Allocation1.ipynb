{
 "cells": [
  {
   "cell_type": "code",
   "execution_count": 1,
   "metadata": {
    "collapsed": true
   },
   "outputs": [],
   "source": [
    "# We give an example of how to find the optimal portfolio with 1 risky asset and 1 risk-free asset\n",
    "# Then we compare it with the strategy that investing mkt 100%\n",
    "\n",
    "import pandas as pd # To load data, we use the package pandas\n",
    "import numpy as np # To do mathematical operations, we use the package numpy\n",
    "import matplotlib.pyplot as plt # To plot the returns data, we use the package matplotlib\n",
    "%matplotlib inline\n",
    "\n",
    "# Load the monthly data\n",
    "\n",
    "factornames = ['time', 'mktrf', 'var3', 'var4', 'rf'] # Give variables' names\n",
    "df = pd.read_fwf('Factors_July26_July11.dat', colspecs='infer', widths=None, header=None, names=factornames) \n",
    "\n",
    "# The returns from the data are in percentage points\n",
    "\n",
    "mktrf = df['mktrf']/100\n",
    "rf = df['rf']/100\n",
    "\n",
    "T = len(df) # The number of obs\n",
    "\n",
    "gamma = 2.5 # The risk-averse coeff.\n",
    "\n",
    "mu = mktrf.mean() # The expected mkt excess return\n",
    "sig2 = mktrf.var() # The var of the mkt excess return\n",
    "sig = np.sqrt(sig2) # Its vol\n",
    "Sharpemkt = mu/sig # Its Sharpe ratio\n",
    "\n",
    "w = (1/gamma)*mu/sig2 # The optimal weight on mkt\n",
    "\n",
    "Port = [] # A list to store the returns on the portfolio\n",
    "CC_Port = [] # to store the accumulative returns\n",
    "\n",
    "Port.append(rf[0] + w*mktrf[0]) # return in the first period\n",
    "CC_Port.append(1+Port[0])\n",
    "\n",
    "for i in range(T-1):\n",
    "    Port.append(rf[i+1] + w*mktrf[i+1]);\n",
    "    CC_Port.append(CC_Port[i]*(1+Port[i+1]))\n",
    "\n",
    "\n",
    "ExPort = w*mktrf # excess return of the optimla portfolio\n",
    "muP = ExPort.mean()\n",
    "sig2P = ExPort.var()\n",
    "sigP = np.sqrt(sig2P)\n",
    "SharpeP = muP/sigP\n",
    "\n",
    "CC_mkt = []\n",
    "CC_mkt.append(1+mktrf[0] + rf[0])\n",
    "\n",
    "for i in range(T-1):\n",
    "    CC_mkt.append(CC_mkt[i]*(1 + mktrf[i+1] + rf[i+1]))    "
   ]
  },
  {
   "cell_type": "code",
   "execution_count": 2,
   "metadata": {},
   "outputs": [
    {
     "name": "stdout",
     "output_type": "stream",
     "text": [
      "risk aevrsion and the optimal weight on mkt\n",
      "\n",
      "        2.5000   0.8398\n",
      " \n"
     ]
    }
   ],
   "source": [
    "print('risk aevrsion and the optimal weight on mkt\\n')\n",
    "print('        {0:.4f}   {1:.4f}\\n '.format(gamma, w))"
   ]
  },
  {
   "cell_type": "code",
   "execution_count": 3,
   "metadata": {},
   "outputs": [
    {
     "name": "stdout",
     "output_type": "stream",
     "text": [
      "Excesss Mean, std and Sharpe ratios of the mkt and the optimal portfolio\n",
      "\n",
      "        0.0062   0.0545  0.1144\n",
      " \n",
      "        0.0052   0.0458  0.1144\n",
      " \n"
     ]
    }
   ],
   "source": [
    "print('Excesss Mean, std and Sharpe ratios of the mkt and the optimal portfolio\\n')\n",
    "print('        {0:.4f}   {1:.4f}  {2:.4f}\\n '.format(mu, sig, Sharpemkt))\n",
    "print('        {0:.4f}   {1:.4f}  {2:.4f}\\n '.format(muP, sigP, SharpeP))"
   ]
  },
  {
   "cell_type": "code",
   "execution_count": 4,
   "metadata": {},
   "outputs": [
    {
     "name": "stdout",
     "output_type": "stream",
     "text": [
      "max, min return of  mkt  and the optimal port\n",
      "\n",
      "        0.3827   -0.2904\n",
      " \n",
      "        0.3224   -0.2436\n",
      " \n"
     ]
    }
   ],
   "source": [
    "print('max, min return of  mkt  and the optimal port\\n')\n",
    "print('        {0:.4f}   {1:.4f}\\n '.format(max(mktrf), min(mktrf)))\n",
    "print('        {0:.4f}   {1:.4f}\\n '.format(max(Port), min(Port)))"
   ]
  },
  {
   "cell_type": "code",
   "execution_count": 5,
   "metadata": {},
   "outputs": [
    {
     "name": "stdout",
     "output_type": "stream",
     "text": [
      "Accu return of mkt, and the optimal port\n",
      "\n",
      "        2540.3984   1439.0687\n",
      " \n"
     ]
    }
   ],
   "source": [
    "print('Accu return of mkt, and the optimal port\\n')\n",
    "print('        {0:.4f}   {1:.4f}\\n '.format(CC_mkt[T-1], CC_Port[T-1]))"
   ]
  },
  {
   "cell_type": "code",
   "execution_count": 6,
   "metadata": {},
   "outputs": [
    {
     "data": {
      "image/png": "[encoded data removed]",
      "text/plain": [
       "<matplotlib.figure.Figure at 0x1118f6710>"
      ]
     },
     "metadata": {},
     "output_type": "display_data"
    }
   ],
   "source": [
    "# Plot the accu returns\n",
    "\n",
    "df.time = pd.to_datetime(df['time'], format='%Y%m')\n",
    "df.set_index(['time'],inplace=True)\n",
    "\n",
    "plt.plot(df.index, CC_mkt)\n",
    "plt.plot(df.index, CC_Port)\n",
    "plt.ylabel('The Accumulative Returns')\n",
    "plt.xlabel('Date')\n",
    "plt.legend(['Market', 'The Optimal Portfolio'], loc='upper left')\n",
    "plt.show()"
   ]
  }
 ],
 "metadata": {
  "kernelspec": {
   "display_name": "Python 3",
   "language": "python",
   "name": "python3"
  },
  "language_info": {
   "codemirror_mode": {
    "name": "ipython",
    "version": 3
   },
   "file_extension": ".py",
   "mimetype": "text/x-python",
   "name": "python",
   "nbconvert_exporter": "python",
   "pygments_lexer": "ipython3",
   "version": "3.6.1"
  }
 },
 "nbformat": 4,
 "nbformat_minor": 1
}
