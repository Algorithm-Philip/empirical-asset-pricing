{
 "cells": [
  {
   "cell_type": "code",
   "execution_count": 1,
   "metadata": {},
   "outputs": [],
   "source": [
    "# We give an example of how to find the optimal portfolio with n>1 risky asset and 1 risk-free asset\n",
    "# We use the 5 industry port from http://mba.tuck.dartmouth.edu/pages/faculty/ken .french/data_library.html\n",
    "\n",
    "\n",
    "import pandas as pd # To load data, we use the package pandas\n",
    "import numpy as np # To do mathematical operations, we use the package numpy\n",
    "import matplotlib.pyplot as plt # To plot the returns data, we use the package matplotlib\n",
    "%matplotlib inline\n",
    "\n",
    "# Load the monthly data\n",
    "\n",
    "factornames1 = ['time', 'mktrf', 'var3', 'var4', 'rf'] # Give variables' names\n",
    "factornames2 = ['time', 'factor1', 'factor2', 'factor3', 'factor4', 'factor5'] # Give variables' names\n",
    "df1 = pd.read_fwf('Factors_July26_July11.dat', colspecs='infer', widths=None, header=None, names=factornames1)\n",
    "df2 = pd.read_fwf('Indu5_July26_July11.dat', colspecs='infer', widths=None, header=None, names=factornames2)\n",
    "\n",
    "df = df1.combine_first(df2)\n",
    "df = df[:-1]\n",
    "df['time'] = df['time'].astype(int)\n",
    "\n",
    "df['factor1rf'] = df['factor1']- df['rf']\n",
    "df['factor2rf'] = df['factor2']- df['rf']\n",
    "df['factor3rf'] = df['factor3']- df['rf']\n",
    "df['factor4rf'] = df['factor4']- df['rf']\n",
    "df['factor5rf'] = df['factor5']- df['rf']\n",
    "\n",
    "df = df.drop(['var3','var4'], 1)\n",
    "\n",
    "# The returns from the data are in percentage points\n",
    "\n",
    "indu_names = ['factor1rf','factor2rf','factor3rf','factor4rf','factor5rf']\n",
    "mktrf = df['mktrf']/100\n",
    "rf = df['rf']/100\n",
    "ReEx = df[indu_names]/100\n",
    "\n",
    "T = len(df) # The number of obs\n",
    "\n",
    "gamma = 3 # The risk-averse coeff.\n",
    "\n",
    "# estimate the mean and covariance matrix of the 5 excess return\n",
    "\n",
    "mu=ReEx.mean() \n",
    "V=ReEx.cov()\n",
    "\n",
    "# Computing the optimal weights on the 5 risky aasets\n",
    "\n",
    "w = 1/gamma*np.matmul(np.linalg.inv(V), mu)\n",
    "\n",
    "Port = [] # A list to store the returns on the portfolio\n",
    "CC_Port = [] # to store the accumulative returns\n",
    "\n",
    "Port.append(rf[0] + np.matmul(ReEx.iloc[0],w)) # return in the first period\n",
    "\n",
    "CC_Port.append(1+Port[0])\n",
    "\n",
    "for i in range(T-1):\n",
    "    Port.append(rf[i+1] + np.matmul(ReEx.iloc[i+1],w));\n",
    "    CC_Port.append(CC_Port[i]*(1+Port[i+1]))\n",
    "\n",
    "ExPort = Port - rf # excess return of the optimla portfolio\n",
    "muP = ExPort.mean()\n",
    "sig2P = ExPort.var()\n",
    "sigP = np.sqrt(sig2P)\n",
    "SharpeP = muP/sigP\n",
    "\n",
    "\n",
    "# Compute Sharpe Ratio and the accumulative return on the mkt\n",
    "\n",
    "mu1 = mktrf.mean()              # estimate the mean and variance of the mkt excess return   \n",
    "sig2 = mktrf.var()\n",
    "sig = np.sqrt(sig2)\n",
    "SharpeRM = mu1/sig     # Sharpe ratio of the mkt\n",
    "\n",
    "# mkt return, obtained by adding back the riskfree rate\n",
    "\n",
    "CC_mkt = []\n",
    "CC_mkt.append(1+mktrf[0] + rf[0])\n",
    "\n",
    "for i in range(T-1):\n",
    "    CC_mkt.append(CC_mkt[i]*(1 + mktrf[i+1] + rf[i+1]))   "
   ]
  },
  {
   "cell_type": "code",
   "execution_count": 2,
   "metadata": {},
   "outputs": [
    {
     "name": "stdout",
     "output_type": "stream",
     "text": [
      "risk aevrsion\n",
      "\n",
      "3.0000\n",
      " \n"
     ]
    }
   ],
   "source": [
    "print('risk aevrsion\\n')\n",
    "print('{0:.4f}\\n '.format(gamma))"
   ]
  },
  {
   "cell_type": "code",
   "execution_count": 3,
   "metadata": {},
   "outputs": [
    {
     "name": "stdout",
     "output_type": "stream",
     "text": [
      "weights on the risky assets\n",
      "\n",
      "[ 0.69542253  0.6604779   0.05889521  0.54013127 -0.93355514]\n"
     ]
    }
   ],
   "source": [
    "print('weights on the risky assets\\n')\n",
    "print(w)"
   ]
  },
  {
   "cell_type": "code",
   "execution_count": 4,
   "metadata": {},
   "outputs": [
    {
     "name": "stdout",
     "output_type": "stream",
     "text": [
      "weights on the riskfree asset\n",
      "-0.0213717714648\n"
     ]
    }
   ],
   "source": [
    "print('weights on the riskfree asset')\n",
    "print(1-w.sum())"
   ]
  },
  {
   "cell_type": "code",
   "execution_count": 5,
   "metadata": {},
   "outputs": [
    {
     "name": "stdout",
     "output_type": "stream",
     "text": [
      "Excesss Mean, std and Sharpe ratios of the mkt and the optimal portfolio\n",
      "\n",
      "        0.0062   0.0545  0.1144\n",
      " \n",
      "        0.0084   0.0528  0.1584\n",
      " \n"
     ]
    }
   ],
   "source": [
    "print('Excesss Mean, std and Sharpe ratios of the mkt and the optimal portfolio\\n')\n",
    "print('        {0:.4f}   {1:.4f}  {2:.4f}\\n '.format(mu1, sig, SharpeRM))\n",
    "print('        {0:.4f}   {1:.4f}  {2:.4f}\\n '.format(muP, sigP, SharpeP))"
   ]
  },
  {
   "cell_type": "code",
   "execution_count": 6,
   "metadata": {},
   "outputs": [
    {
     "name": "stdout",
     "output_type": "stream",
     "text": [
      "max, min return of  mkt  and the optimal port\n",
      "\n",
      "        0.3827   -0.2904\n",
      " \n",
      "        0.5141   -0.3253\n",
      " \n"
     ]
    }
   ],
   "source": [
    "print('max, min return of  mkt  and the optimal port\\n')\n",
    "print('        {0:.4f}   {1:.4f}\\n '.format(max(mktrf), min(mktrf)))\n",
    "print('        {0:.4f}   {1:.4f}\\n '.format(max(Port), min(Port)))"
   ]
  },
  {
   "cell_type": "code",
   "execution_count": 7,
   "metadata": {},
   "outputs": [
    {
     "name": "stdout",
     "output_type": "stream",
     "text": [
      "Accu return of mkt, and the optimal port\n",
      "\n",
      "        2540.3984   24082.9287\n",
      " \n"
     ]
    }
   ],
   "source": [
    "print('Accu return of mkt, and the optimal port\\n')\n",
    "print('        {0:.4f}   {1:.4f}\\n '.format(CC_mkt[T-1], CC_Port[T-1]))"
   ]
  },
  {
   "cell_type": "code",
   "execution_count": 8,
   "metadata": {},
   "outputs": [
    {
     "data": {
      "image/png": "[encoded data removed]",
      "text/plain": [
       "<matplotlib.figure.Figure at 0x11496b4e0>"
      ]
     },
     "metadata": {},
     "output_type": "display_data"
    }
   ],
   "source": [
    "# Plot the accu returns\n",
    "\n",
    "df.time = pd.to_datetime(df['time'], format='%Y%m')\n",
    "df.set_index(['time'],inplace=True)\n",
    "\n",
    "plt.plot(df.index, CC_mkt)\n",
    "plt.plot(df.index, CC_Port)\n",
    "plt.ylabel('The Accumulative Returns')\n",
    "plt.xlabel('Date')\n",
    "plt.legend(['Market', 'The Optimal Portfolio'], loc='upper left')\n",
    "plt.show()"
   ]
  }
 ],
 "metadata": {
  "kernelspec": {
   "display_name": "Python 3",
   "language": "python",
   "name": "python3"
  },
  "language_info": {
   "codemirror_mode": {
    "name": "ipython",
    "version": 3
   },
   "file_extension": ".py",
   "mimetype": "text/x-python",
   "name": "python",
   "nbconvert_exporter": "python",
   "pygments_lexer": "ipython3",
   "version": "3.6.1"
  }
 },
 "nbformat": 4,
 "nbformat_minor": 2
}
